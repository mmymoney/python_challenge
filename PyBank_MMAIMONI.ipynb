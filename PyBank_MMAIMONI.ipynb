{
 "cells": [
  {
   "cell_type": "code",
   "execution_count": 39,
   "metadata": {},
   "outputs": [],
   "source": [
    "#import csv and os\n",
    "\n",
    "import csv\n",
    "import os\n",
    "import statistics\n",
    "import numpy as np"
   ]
  },
  {
   "cell_type": "code",
   "execution_count": 40,
   "metadata": {},
   "outputs": [],
   "source": [
    "#define file variable for imported csv\n",
    "file = 'PyBank/Resources/budget_data.csv'"
   ]
  },
  {
   "cell_type": "code",
   "execution_count": 49,
   "metadata": {},
   "outputs": [],
   "source": [
    "#open csv file, create new variable for month, and print count of total months\n",
    "months = 0\n",
    "with open(file, newline=\"\") as csvfile:\n",
    "    csvread = csv.reader(csvfile, delimiter =\",\")\n",
    "    for row in csvread:\n",
    "        months = months + 1\n",
    "        total_months = int(months)-1\n"
   ]
  },
  {
   "cell_type": "code",
   "execution_count": 55,
   "metadata": {},
   "outputs": [
    {
     "name": "stdout",
     "output_type": "stream",
     "text": [
      "PyBank\n",
      "Financial Analysis\n",
      "--------------------\n",
      "Total Months: 86\n",
      "Total: 38382578\n",
      "Average Change: -2315.1176470588234\n",
      "Greatest Increase: 1926159.0\n",
      "Greatest Decrease: -2196167.0\n"
     ]
    }
   ],
   "source": [
    "#Net Profit/Loss Calculation\n",
    "\n",
    "with open(file, newline=\"\") as csvfile_b:\n",
    "    #Store header row\n",
    "    header = next(csvfile_b)\n",
    "    #Variable for net profit/loss\n",
    "    total = 0\n",
    "    #Variable for list of individual monthly profits and losses\n",
    "    profitloss = []\n",
    "    #Variable for difference between month_a and month_b\n",
    "    difference = []\n",
    "    #for loop to grab totals and add to a list\n",
    "    \n",
    "    for x in csv.reader(csvfile_b):\n",
    "        total += int(x[1])\n",
    "        profitloss.append(float(x[1]))\n",
    "    \n",
    "    #Calculate Differences between Consecutive values\n",
    "    differences = np.ediff1d(profitloss)\n",
    "    \n",
    "    #Calculate Average, Greatest Increase, and Greatest Low\n",
    "    avg_diff = sum(differences)/len(differences)\n",
    "    big_high = max(differences)\n",
    "    big_low = min(differences)\n",
    "    \n",
    "    print(f'PyBank')\n",
    "    print(f'Financial Analysis')\n",
    "    print(f'--------------------')\n",
    "    print(f'Total Months: {str(total_months)}')\n",
    "    print(f'Total: {total}')\n",
    "    print(f'Average Change: {avg_diff}')\n",
    "    print(f'Greatest Increase: {big_high}')\n",
    "    print(f'Greatest Decrease: {big_low}')\n",
    "    \n",
    "    #Let's export to text...\n",
    "    file_export = open(\"PyBank Analysis\",\"w\")\n",
    "    file_export.writelines(f'PyBank \\n, Financial Analysis \\n, --------------------\\n,Total Months: {str(total_months)} \\n,Total: {total} \\n, Average Change: {avg_diff} \\n, Greatest Increase: {big_high} \\n, Greatest Decrease: {big_low}')\n",
    "    file_export.close"
   ]
  },
  {
   "cell_type": "code",
   "execution_count": null,
   "metadata": {},
   "outputs": [],
   "source": []
  }
 ],
 "metadata": {
  "kernelspec": {
   "display_name": "Python 3",
   "language": "python",
   "name": "python3"
  },
  "language_info": {
   "codemirror_mode": {
    "name": "ipython",
    "version": 3
   },
   "file_extension": ".py",
   "mimetype": "text/x-python",
   "name": "python",
   "nbconvert_exporter": "python",
   "pygments_lexer": "ipython3",
   "version": "3.7.4"
  }
 },
 "nbformat": 4,
 "nbformat_minor": 2
}
